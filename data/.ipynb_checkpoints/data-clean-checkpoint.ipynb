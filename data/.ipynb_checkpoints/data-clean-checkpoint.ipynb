{
 "cells": [
  {
   "cell_type": "code",
   "execution_count": 1,
   "id": "a9b4317f",
   "metadata": {},
   "outputs": [],
   "source": [
    "import pandas as pd"
   ]
  },
  {
   "cell_type": "code",
   "execution_count": 3,
   "id": "1c3cd22a",
   "metadata": {},
   "outputs": [],
   "source": [
    "df = pd.read_csv(\"RawData.csv\")"
   ]
  },
  {
   "cell_type": "code",
   "execution_count": 4,
   "id": "694cd276",
   "metadata": {},
   "outputs": [
    {
     "data": {
      "text/html": [
       "<div>\n",
       "<style scoped>\n",
       "    .dataframe tbody tr th:only-of-type {\n",
       "        vertical-align: middle;\n",
       "    }\n",
       "\n",
       "    .dataframe tbody tr th {\n",
       "        vertical-align: top;\n",
       "    }\n",
       "\n",
       "    .dataframe thead th {\n",
       "        text-align: right;\n",
       "    }\n",
       "</style>\n",
       "<table border=\"1\" class=\"dataframe\">\n",
       "  <thead>\n",
       "    <tr style=\"text-align: right;\">\n",
       "      <th></th>\n",
       "      <th>BY</th>\n",
       "      <th>CEEY</th>\n",
       "      <th>NBP</th>\n",
       "      <th>UEE</th>\n",
       "      <th>GDP-BY</th>\n",
       "      <th>GDP-CEEY</th>\n",
       "      <th>CEEP</th>\n",
       "      <th>CEEA</th>\n",
       "      <th>CEEAR</th>\n",
       "      <th>GER</th>\n",
       "    </tr>\n",
       "  </thead>\n",
       "  <tbody>\n",
       "    <tr>\n",
       "      <th>0</th>\n",
       "      <td>1959</td>\n",
       "      <td>1977</td>\n",
       "      <td>1635</td>\n",
       "      <td>0</td>\n",
       "      <td>550.0</td>\n",
       "      <td>1749.4</td>\n",
       "      <td>570.0</td>\n",
       "      <td>27.0</td>\n",
       "      <td>4.74%</td>\n",
       "      <td>1.65%</td>\n",
       "    </tr>\n",
       "    <tr>\n",
       "      <th>1</th>\n",
       "      <td>1960</td>\n",
       "      <td>1978</td>\n",
       "      <td>1402</td>\n",
       "      <td>0</td>\n",
       "      <td>597.2</td>\n",
       "      <td>1495.4</td>\n",
       "      <td>610.0</td>\n",
       "      <td>40.2</td>\n",
       "      <td>6.59%</td>\n",
       "      <td>2.87%</td>\n",
       "    </tr>\n",
       "    <tr>\n",
       "      <th>2</th>\n",
       "      <td>1961</td>\n",
       "      <td>1979</td>\n",
       "      <td>949</td>\n",
       "      <td>0</td>\n",
       "      <td>500.6</td>\n",
       "      <td>1782.8</td>\n",
       "      <td>468.0</td>\n",
       "      <td>28.0</td>\n",
       "      <td>5.98%</td>\n",
       "      <td>2.95%</td>\n",
       "    </tr>\n",
       "    <tr>\n",
       "      <th>3</th>\n",
       "      <td>1962</td>\n",
       "      <td>1980</td>\n",
       "      <td>2451</td>\n",
       "      <td>0</td>\n",
       "      <td>472.1</td>\n",
       "      <td>1911.5</td>\n",
       "      <td>333.0</td>\n",
       "      <td>28.0</td>\n",
       "      <td>8.41%</td>\n",
       "      <td>1.14%</td>\n",
       "    </tr>\n",
       "    <tr>\n",
       "      <th>4</th>\n",
       "      <td>1963</td>\n",
       "      <td>1981</td>\n",
       "      <td>2934</td>\n",
       "      <td>0</td>\n",
       "      <td>507.1</td>\n",
       "      <td>1958.7</td>\n",
       "      <td>259.0</td>\n",
       "      <td>28.0</td>\n",
       "      <td>10.81%</td>\n",
       "      <td>0.95%</td>\n",
       "    </tr>\n",
       "  </tbody>\n",
       "</table>\n",
       "</div>"
      ],
      "text/plain": [
       "     BY  CEEY   NBP  UEE  GDP-BY  GDP-CEEY   CEEP  CEEA   CEEAR    GER\n",
       "0  1959  1977  1635    0   550.0    1749.4  570.0  27.0   4.74%  1.65%\n",
       "1  1960  1978  1402    0   597.2    1495.4  610.0  40.2   6.59%  2.87%\n",
       "2  1961  1979   949    0   500.6    1782.8  468.0  28.0   5.98%  2.95%\n",
       "3  1962  1980  2451    0   472.1    1911.5  333.0  28.0   8.41%  1.14%\n",
       "4  1963  1981  2934    0   507.1    1958.7  259.0  28.0  10.81%  0.95%"
      ]
     },
     "execution_count": 4,
     "metadata": {},
     "output_type": "execute_result"
    }
   ],
   "source": [
    "df.head()"
   ]
  },
  {
   "cell_type": "code",
   "execution_count": 5,
   "id": "15724e1e",
   "metadata": {},
   "outputs": [],
   "source": [
    "df_filter = df[['CEEY','CEEAR','GER']]"
   ]
  },
  {
   "cell_type": "code",
   "execution_count": 6,
   "id": "4341d41a",
   "metadata": {},
   "outputs": [],
   "source": [
    "new_df = df_filter.melt('CEEY',var_name='category', value_name='rate')"
   ]
  },
  {
   "cell_type": "code",
   "execution_count": 7,
   "id": "a93a527a",
   "metadata": {},
   "outputs": [
    {
     "data": {
      "text/html": [
       "<div>\n",
       "<style scoped>\n",
       "    .dataframe tbody tr th:only-of-type {\n",
       "        vertical-align: middle;\n",
       "    }\n",
       "\n",
       "    .dataframe tbody tr th {\n",
       "        vertical-align: top;\n",
       "    }\n",
       "\n",
       "    .dataframe thead th {\n",
       "        text-align: right;\n",
       "    }\n",
       "</style>\n",
       "<table border=\"1\" class=\"dataframe\">\n",
       "  <thead>\n",
       "    <tr style=\"text-align: right;\">\n",
       "      <th></th>\n",
       "      <th>CEEY</th>\n",
       "      <th>category</th>\n",
       "      <th>rate</th>\n",
       "    </tr>\n",
       "  </thead>\n",
       "  <tbody>\n",
       "    <tr>\n",
       "      <th>0</th>\n",
       "      <td>1977</td>\n",
       "      <td>CEEAR</td>\n",
       "      <td>4.74%</td>\n",
       "    </tr>\n",
       "    <tr>\n",
       "      <th>1</th>\n",
       "      <td>1978</td>\n",
       "      <td>CEEAR</td>\n",
       "      <td>6.59%</td>\n",
       "    </tr>\n",
       "    <tr>\n",
       "      <th>2</th>\n",
       "      <td>1979</td>\n",
       "      <td>CEEAR</td>\n",
       "      <td>5.98%</td>\n",
       "    </tr>\n",
       "    <tr>\n",
       "      <th>3</th>\n",
       "      <td>1980</td>\n",
       "      <td>CEEAR</td>\n",
       "      <td>8.41%</td>\n",
       "    </tr>\n",
       "    <tr>\n",
       "      <th>4</th>\n",
       "      <td>1981</td>\n",
       "      <td>CEEAR</td>\n",
       "      <td>10.81%</td>\n",
       "    </tr>\n",
       "  </tbody>\n",
       "</table>\n",
       "</div>"
      ],
      "text/plain": [
       "   CEEY category    rate\n",
       "0  1977    CEEAR   4.74%\n",
       "1  1978    CEEAR   6.59%\n",
       "2  1979    CEEAR   5.98%\n",
       "3  1980    CEEAR   8.41%\n",
       "4  1981    CEEAR  10.81%"
      ]
     },
     "execution_count": 7,
     "metadata": {},
     "output_type": "execute_result"
    }
   ],
   "source": [
    "new_df.head()"
   ]
  },
  {
   "cell_type": "code",
   "execution_count": 10,
   "id": "a903ab3f",
   "metadata": {},
   "outputs": [
    {
     "data": {
      "text/plain": [
       "CEEY         int64\n",
       "category    object\n",
       "rate        object\n",
       "dtype: object"
      ]
     },
     "execution_count": 10,
     "metadata": {},
     "output_type": "execute_result"
    }
   ],
   "source": [
    "new_df.dtypes"
   ]
  },
  {
   "cell_type": "code",
   "execution_count": 11,
   "id": "5011850e",
   "metadata": {},
   "outputs": [],
   "source": [
    "new_df['rate'] = new_df['rate'].str.rstrip(\"%\").astype(float)"
   ]
  },
  {
   "cell_type": "code",
   "execution_count": 16,
   "id": "54f576fb",
   "metadata": {},
   "outputs": [],
   "source": [
    "new_df = new_df[new_df.CEEY < 2022]"
   ]
  },
  {
   "cell_type": "code",
   "execution_count": 18,
   "id": "9864b371",
   "metadata": {},
   "outputs": [],
   "source": [
    "new_df.to_csv(\"cleanData1.csv\", index=False)"
   ]
  }
 ],
 "metadata": {
  "kernelspec": {
   "display_name": "Python 3 (ipykernel)",
   "language": "python",
   "name": "python3"
  },
  "language_info": {
   "codemirror_mode": {
    "name": "ipython",
    "version": 3
   },
   "file_extension": ".py",
   "mimetype": "text/x-python",
   "name": "python",
   "nbconvert_exporter": "python",
   "pygments_lexer": "ipython3",
   "version": "3.9.7"
  }
 },
 "nbformat": 4,
 "nbformat_minor": 5
}
